{
 "cells": [
  {
   "cell_type": "markdown",
   "id": "543eb9a7",
   "metadata": {},
   "source": [
    "### <font color='Orange'>Classifying Iris Species</font> \n",
    "\n",
    "    References\n",
    "    ...\n",
    "    \n",
    "    1. Introduction to Machine Learning with Python A Guide for Data Scientists (Andreas C. Müller, Sarah Guido)\n",
    "    2. https://towardsdatascience.com/classification-basics-walk-through-with-the-iris-data-set-d46b0331bf82\n",
    "    3. https://www.statology.org/standardize-data-python/#:~:text=To%20standardize%20a%20dataset%20means,the%20standard%20deviation%20is%201.\n"
   ]
  },
  {
   "cell_type": "code",
   "execution_count": 31,
   "id": "mental-amendment",
   "metadata": {},
   "outputs": [],
   "source": [
    "from sklearn.datasets import load_iris\n",
    "import pandas as pd\n",
    "import seaborn as sns\n",
    "import matplotlib.pyplot as plt"
   ]
  },
  {
   "cell_type": "code",
   "execution_count": 2,
   "id": "hindu-yukon",
   "metadata": {},
   "outputs": [],
   "source": [
    "iris_dataset = load_iris()"
   ]
  },
  {
   "cell_type": "markdown",
   "id": "23834a7b",
   "metadata": {},
   "source": [
    "### <font color='Orange'> Introduction </font>\n",
    "\n",
    "Because we have measurements for which we know the correct species of iris, this is a <font color='Orange'>supervised learning problem.</font>In this problem, we want to predict one of several options (the species of iris). This is an example of a classification problem. The possible outputs (different species of irises) are called <font color='Orange'> classes.</font> Every iris in the dataset belongs to one of three classes, so this problem is a three-class classification problem. The desired output for a single data point (an iris) is the species of this flower. For a particular data point, the species it belongs to is called its label.\n",
    "\n",
    "<img src =\"./images/Flower-features.png\" width=\"300\" height=\"300\">\n",
    "\n",
    "                                                         Image from reference 1"
   ]
  },
  {
   "cell_type": "code",
   "execution_count": 3,
   "id": "wound-array",
   "metadata": {},
   "outputs": [
    {
     "name": "stdout",
     "output_type": "stream",
     "text": [
      ".. _iris_dataset:\n",
      "\n",
      "Iris plants dataset\n",
      "--------------------\n",
      "\n",
      "**Data Set Characteristics:**\n",
      "\n",
      "    :Number of Instances: 150 (50 in each of three classes)\n",
      "    :Number of Attributes: 4 numeric, predictive attributes and the class\n",
      "    :Attribute Information:\n",
      "        - sepal length in cm\n",
      "        - sepal width in cm\n",
      "        - petal length in cm\n",
      "        - petal width in cm\n",
      "        - class:\n",
      "                - Iris-Setosa\n",
      "                - Iris-Versicolour\n",
      "                - Iris-Virginica\n",
      "                \n",
      "    :Summary Statistics:\n",
      "\n",
      "    ============== ==== ==== ======= ===== ====================\n",
      "                    Min  Max   Mean    SD   Class Correlation\n",
      "    ============== ==== ==== ======= ===== ====================\n",
      "    sepal length:   4.3  7.9   5.84   0.83    0.7826\n",
      "    sepal width:    2.0  4.4   3.05   0.43   -0.4194\n",
      "    petal length:   1.0  6.9   3.76   1.76    0.9490  (high!)\n",
      "    petal width:    0.1  2.5   1.20   0.76    0.9565  (high!)\n",
      "    ============== ==== ==== ======= ===== ====================\n",
      "\n",
      "    :Missing Attribute Values: None\n",
      "    :Class Distribution: 33.3% for each of 3 classes.\n",
      "    :Creator: R.A. Fisher\n",
      "    :Donor: Michael Marshall (MARSHALL%PLU@io.arc.nasa.gov)\n",
      "    :Date: July, 1988\n",
      "\n",
      "The famous Iris database, first used by Sir R.A. Fisher. The dataset is taken\n",
      "from Fisher's paper. Note that it's the same as in R, but not as in the UCI\n",
      "Machine Learning Repository, which has two wrong data points.\n",
      "\n",
      "This is perhaps the best known database to be found in the\n",
      "pattern recognition literature.  Fisher's paper is a classic in the field and\n",
      "is referenced frequently to this day.  (See Duda & Hart, for example.)  The\n",
      "data set contains 3 classes of 50 instances each, where each class refers to a\n",
      "type of iris plant.  One class is linearly separable from the other 2; the\n",
      "latter are NOT linearly separable from each other.\n",
      "\n",
      ".. topic:: References\n",
      "\n",
      "   - Fisher, R.A. \"The use of multiple measurements in taxonomic problems\"\n",
      "     Annual Eugenics, 7, Part II, 179-188 (1936); also in \"Contributions to\n",
      "     Mathematical Statistics\" (John Wiley, NY, 1950).\n",
      "   - Duda, R.O., & Hart, P.E. (1973) Pattern Classification and Scene Analysis.\n",
      "     (Q327.D83) John Wiley & Sons.  ISBN 0-471-22361-1.  See page 218.\n",
      "   - Dasarathy, B.V. (1980) \"Nosing Around the Neighborhood: A New System\n",
      "     Structure and Classification Rule for Recognition in Partially Exposed\n",
      "     Environments\".  IEEE Transactions on Pattern Analysis and Machine\n",
      "     Intelligence, Vol. PAMI-2, No. 1, 67-71.\n",
      "   - Gates, G.W. (1972) \"The Reduced Nearest Neighbor Rule\".  IEEE Transactions\n",
      "     on Information Theory, May 1972, 431-433.\n",
      "   - See also: 1988 MLC Proceedings, 54-64.  Cheeseman et al\"s AUTOCLASS II\n",
      "     conceptual clustering system finds 3 classes in the data.\n",
      "   - Many, many more ...\n"
     ]
    }
   ],
   "source": [
    "print(iris_dataset.DESCR)"
   ]
  },
  {
   "cell_type": "markdown",
   "id": "34ade2cc",
   "metadata": {},
   "source": [
    "### <font color='Orange'> Meet the data </font>\n",
    "\n",
    "The data we will use for this example is the Iris dataset, a classical dataset in machine\n",
    "learning and statistics. It is included in scikit-learn in the datasets module. We\n",
    "can load it by calling the load_iris function:"
   ]
  },
  {
   "cell_type": "code",
   "execution_count": 4,
   "id": "grave-reward",
   "metadata": {},
   "outputs": [],
   "source": [
    "# iris_dataset"
   ]
  },
  {
   "cell_type": "code",
   "execution_count": 5,
   "id": "2bfc359f",
   "metadata": {},
   "outputs": [
    {
     "data": {
      "text/plain": [
       "dict_keys(['data', 'target', 'frame', 'target_names', 'DESCR', 'feature_names', 'filename', 'data_module'])"
      ]
     },
     "execution_count": 5,
     "metadata": {},
     "output_type": "execute_result"
    }
   ],
   "source": [
    "#Prints the title of the data like we have access to  columns in pandas\n",
    "iris_dataset.keys()\n",
    "\n",
    "#This one's the same thing as the above\n",
    "#print(\"{}\".format(iris_dataset.keys()))"
   ]
  },
  {
   "cell_type": "code",
   "execution_count": 6,
   "id": "1f0a0699",
   "metadata": {},
   "outputs": [
    {
     "data": {
      "text/plain": [
       "array(['setosa', 'versicolor', 'virginica'], dtype='<U10')"
      ]
     },
     "execution_count": 6,
     "metadata": {},
     "output_type": "execute_result"
    }
   ],
   "source": [
    "# Like in pandas\n",
    "iris_dataset.target_names"
   ]
  },
  {
   "cell_type": "code",
   "execution_count": 12,
   "id": "a57e4956",
   "metadata": {},
   "outputs": [],
   "source": [
    "# Note that there are two types of accessing columns of data through the dot and square bracket\n",
    "def print_data(name):\n",
    "    return iris_dataset[name]"
   ]
  },
  {
   "cell_type": "code",
   "execution_count": 13,
   "id": "c031e36e",
   "metadata": {},
   "outputs": [
    {
     "data": {
      "text/plain": [
       "array(['setosa', 'versicolor', 'virginica'], dtype='<U10')"
      ]
     },
     "execution_count": 13,
     "metadata": {},
     "output_type": "execute_result"
    }
   ],
   "source": [
    "# Try to see each data ranging from 'data to data_module'\n",
    "print_data('target_names')"
   ]
  },
  {
   "cell_type": "code",
   "execution_count": 18,
   "id": "opening-homework",
   "metadata": {},
   "outputs": [
    {
     "data": {
      "text/plain": [
       "['sepal length (cm)',\n",
       " 'sepal width (cm)',\n",
       " 'petal length (cm)',\n",
       " 'petal width (cm)']"
      ]
     },
     "execution_count": 18,
     "metadata": {},
     "output_type": "execute_result"
    }
   ],
   "source": [
    "# for each flower type, we'll have 4 columns with the following features\n",
    "iris_dataset.feature_names"
   ]
  },
  {
   "cell_type": "code",
   "execution_count": 16,
   "id": "86f1d10f",
   "metadata": {},
   "outputs": [
    {
     "data": {
      "text/plain": [
       "array([[5.1, 3.5, 1.4, 0.2],\n",
       "       [4.9, 3. , 1.4, 0.2],\n",
       "       [4.7, 3.2, 1.3, 0.2],\n",
       "       [4.6, 3.1, 1.5, 0.2],\n",
       "       [5. , 3.6, 1.4, 0.2]])"
      ]
     },
     "execution_count": 16,
     "metadata": {},
     "output_type": "execute_result"
    }
   ],
   "source": [
    "# The rows in the data array correspond to flowers, while the columns represent the four measurements that were taken for each flower\n",
    "# col 1 : sepal length in cm\n",
    "# col 2 : sepal width in cm\n",
    "# col 3 : petal length in cm\n",
    "# col 4 : petal width in cm\n",
    "\n",
    "# from the data below, all the samples have the same petal width = 0.2\n",
    "# 5.1 is the max sepal length and e.t.c\n",
    "iris_dataset['data'][:5]"
   ]
  },
  {
   "cell_type": "code",
   "execution_count": 36,
   "id": "allied-contract",
   "metadata": {},
   "outputs": [
    {
     "data": {
      "text/plain": [
       "150"
      ]
     },
     "execution_count": 36,
     "metadata": {},
     "output_type": "execute_result"
    }
   ],
   "source": [
    "len(iris_dataset.data)"
   ]
  },
  {
   "cell_type": "markdown",
   "id": "e6a7bed9",
   "metadata": {},
   "source": [
    "### <font color='Orange'> NB </font>\n",
    "\n",
    "We see that the array contains measurements for 150 different flowers. Remember that the individual items are called <font color='Orange'> samples </font> in machine learning, and their properties are called <font color='Orange'> features </font>. The shape of the data array is the number of samples multiplied by the number of features(rows x columns == samples x features). This is a convention in scikit-learn, and your data will always be assumed to be in this shape"
   ]
  },
  {
   "cell_type": "code",
   "execution_count": 37,
   "id": "8aced51f",
   "metadata": {},
   "outputs": [
    {
     "data": {
      "text/plain": [
       "(150, 4)"
      ]
     },
     "execution_count": 37,
     "metadata": {},
     "output_type": "execute_result"
    }
   ],
   "source": [
    "iris_dataset.data.shape"
   ]
  },
  {
   "cell_type": "code",
   "execution_count": 19,
   "id": "1ce7d06b",
   "metadata": {},
   "outputs": [
    {
     "data": {
      "text/html": [
       "<div>\n",
       "<style scoped>\n",
       "    .dataframe tbody tr th:only-of-type {\n",
       "        vertical-align: middle;\n",
       "    }\n",
       "\n",
       "    .dataframe tbody tr th {\n",
       "        vertical-align: top;\n",
       "    }\n",
       "\n",
       "    .dataframe thead th {\n",
       "        text-align: right;\n",
       "    }\n",
       "</style>\n",
       "<table border=\"1\" class=\"dataframe\">\n",
       "  <thead>\n",
       "    <tr style=\"text-align: right;\">\n",
       "      <th></th>\n",
       "      <th>sepal_length</th>\n",
       "      <th>sepal_width</th>\n",
       "      <th>petal_length</th>\n",
       "      <th>petal_width</th>\n",
       "    </tr>\n",
       "  </thead>\n",
       "  <tbody>\n",
       "    <tr>\n",
       "      <th>0</th>\n",
       "      <td>5.1</td>\n",
       "      <td>3.5</td>\n",
       "      <td>1.4</td>\n",
       "      <td>0.2</td>\n",
       "    </tr>\n",
       "    <tr>\n",
       "      <th>1</th>\n",
       "      <td>4.9</td>\n",
       "      <td>3.0</td>\n",
       "      <td>1.4</td>\n",
       "      <td>0.2</td>\n",
       "    </tr>\n",
       "    <tr>\n",
       "      <th>2</th>\n",
       "      <td>4.7</td>\n",
       "      <td>3.2</td>\n",
       "      <td>1.3</td>\n",
       "      <td>0.2</td>\n",
       "    </tr>\n",
       "    <tr>\n",
       "      <th>3</th>\n",
       "      <td>4.6</td>\n",
       "      <td>3.1</td>\n",
       "      <td>1.5</td>\n",
       "      <td>0.2</td>\n",
       "    </tr>\n",
       "    <tr>\n",
       "      <th>4</th>\n",
       "      <td>5.0</td>\n",
       "      <td>3.6</td>\n",
       "      <td>1.4</td>\n",
       "      <td>0.2</td>\n",
       "    </tr>\n",
       "  </tbody>\n",
       "</table>\n",
       "</div>"
      ],
      "text/plain": [
       "   sepal_length  sepal_width  petal_length  petal_width\n",
       "0           5.1          3.5           1.4          0.2\n",
       "1           4.9          3.0           1.4          0.2\n",
       "2           4.7          3.2           1.3          0.2\n",
       "3           4.6          3.1           1.5          0.2\n",
       "4           5.0          3.6           1.4          0.2"
      ]
     },
     "execution_count": 19,
     "metadata": {},
     "output_type": "execute_result"
    }
   ],
   "source": [
    "# Convert the data into DataFrame as it's easier to manipulate them using pandas\n",
    "df_data = pd.DataFrame(iris_dataset.data, columns=['sepal_length', 'sepal_width', 'petal_length', 'petal_width'])\n",
    "df_data.head()"
   ]
  },
  {
   "cell_type": "code",
   "execution_count": 25,
   "id": "b3109b85",
   "metadata": {},
   "outputs": [
    {
     "data": {
      "text/html": [
       "<div>\n",
       "<style scoped>\n",
       "    .dataframe tbody tr th:only-of-type {\n",
       "        vertical-align: middle;\n",
       "    }\n",
       "\n",
       "    .dataframe tbody tr th {\n",
       "        vertical-align: top;\n",
       "    }\n",
       "\n",
       "    .dataframe thead th {\n",
       "        text-align: right;\n",
       "    }\n",
       "</style>\n",
       "<table border=\"1\" class=\"dataframe\">\n",
       "  <thead>\n",
       "    <tr style=\"text-align: right;\">\n",
       "      <th></th>\n",
       "      <th>targets</th>\n",
       "    </tr>\n",
       "  </thead>\n",
       "  <tbody>\n",
       "    <tr>\n",
       "      <th>0</th>\n",
       "      <td>0</td>\n",
       "    </tr>\n",
       "    <tr>\n",
       "      <th>1</th>\n",
       "      <td>0</td>\n",
       "    </tr>\n",
       "    <tr>\n",
       "      <th>2</th>\n",
       "      <td>0</td>\n",
       "    </tr>\n",
       "    <tr>\n",
       "      <th>3</th>\n",
       "      <td>0</td>\n",
       "    </tr>\n",
       "    <tr>\n",
       "      <th>4</th>\n",
       "      <td>0</td>\n",
       "    </tr>\n",
       "    <tr>\n",
       "      <th>...</th>\n",
       "      <td>...</td>\n",
       "    </tr>\n",
       "    <tr>\n",
       "      <th>145</th>\n",
       "      <td>2</td>\n",
       "    </tr>\n",
       "    <tr>\n",
       "      <th>146</th>\n",
       "      <td>2</td>\n",
       "    </tr>\n",
       "    <tr>\n",
       "      <th>147</th>\n",
       "      <td>2</td>\n",
       "    </tr>\n",
       "    <tr>\n",
       "      <th>148</th>\n",
       "      <td>2</td>\n",
       "    </tr>\n",
       "    <tr>\n",
       "      <th>149</th>\n",
       "      <td>2</td>\n",
       "    </tr>\n",
       "  </tbody>\n",
       "</table>\n",
       "<p>150 rows × 1 columns</p>\n",
       "</div>"
      ],
      "text/plain": [
       "     targets\n",
       "0          0\n",
       "1          0\n",
       "2          0\n",
       "3          0\n",
       "4          0\n",
       "..       ...\n",
       "145        2\n",
       "146        2\n",
       "147        2\n",
       "148        2\n",
       "149        2\n",
       "\n",
       "[150 rows x 1 columns]"
      ]
     },
     "execution_count": 25,
     "metadata": {},
     "output_type": "execute_result"
    }
   ],
   "source": [
    "# setosa, versicolor, virginica have index values of 0, 1, 2 respectively\n",
    "df_target = pd.DataFrame(iris_dataset.target, columns=['targets'])\n",
    "df_target"
   ]
  },
  {
   "cell_type": "markdown",
   "id": "9f9f9f86",
   "metadata": {},
   "source": [
    "### <font color='Orange'>Exploratory Data Analysis (EDA)</font>"
   ]
  },
  {
   "cell_type": "code",
   "execution_count": 53,
   "id": "e3aa57d0",
   "metadata": {},
   "outputs": [
    {
     "data": {
      "text/html": [
       "<div>\n",
       "<style scoped>\n",
       "    .dataframe tbody tr th:only-of-type {\n",
       "        vertical-align: middle;\n",
       "    }\n",
       "\n",
       "    .dataframe tbody tr th {\n",
       "        vertical-align: top;\n",
       "    }\n",
       "\n",
       "    .dataframe thead th {\n",
       "        text-align: right;\n",
       "    }\n",
       "</style>\n",
       "<table border=\"1\" class=\"dataframe\">\n",
       "  <thead>\n",
       "    <tr style=\"text-align: right;\">\n",
       "      <th></th>\n",
       "      <th>sepal_length</th>\n",
       "      <th>sepal_width</th>\n",
       "      <th>petal_length</th>\n",
       "      <th>petal_width</th>\n",
       "      <th>targets</th>\n",
       "    </tr>\n",
       "  </thead>\n",
       "  <tbody>\n",
       "    <tr>\n",
       "      <th>0</th>\n",
       "      <td>5.1</td>\n",
       "      <td>3.5</td>\n",
       "      <td>1.4</td>\n",
       "      <td>0.2</td>\n",
       "      <td>0</td>\n",
       "    </tr>\n",
       "    <tr>\n",
       "      <th>1</th>\n",
       "      <td>4.9</td>\n",
       "      <td>3.0</td>\n",
       "      <td>1.4</td>\n",
       "      <td>0.2</td>\n",
       "      <td>0</td>\n",
       "    </tr>\n",
       "    <tr>\n",
       "      <th>2</th>\n",
       "      <td>4.7</td>\n",
       "      <td>3.2</td>\n",
       "      <td>1.3</td>\n",
       "      <td>0.2</td>\n",
       "      <td>0</td>\n",
       "    </tr>\n",
       "    <tr>\n",
       "      <th>3</th>\n",
       "      <td>4.6</td>\n",
       "      <td>3.1</td>\n",
       "      <td>1.5</td>\n",
       "      <td>0.2</td>\n",
       "      <td>0</td>\n",
       "    </tr>\n",
       "    <tr>\n",
       "      <th>4</th>\n",
       "      <td>5.0</td>\n",
       "      <td>3.6</td>\n",
       "      <td>1.4</td>\n",
       "      <td>0.2</td>\n",
       "      <td>0</td>\n",
       "    </tr>\n",
       "    <tr>\n",
       "      <th>...</th>\n",
       "      <td>...</td>\n",
       "      <td>...</td>\n",
       "      <td>...</td>\n",
       "      <td>...</td>\n",
       "      <td>...</td>\n",
       "    </tr>\n",
       "    <tr>\n",
       "      <th>145</th>\n",
       "      <td>6.7</td>\n",
       "      <td>3.0</td>\n",
       "      <td>5.2</td>\n",
       "      <td>2.3</td>\n",
       "      <td>2</td>\n",
       "    </tr>\n",
       "    <tr>\n",
       "      <th>146</th>\n",
       "      <td>6.3</td>\n",
       "      <td>2.5</td>\n",
       "      <td>5.0</td>\n",
       "      <td>1.9</td>\n",
       "      <td>2</td>\n",
       "    </tr>\n",
       "    <tr>\n",
       "      <th>147</th>\n",
       "      <td>6.5</td>\n",
       "      <td>3.0</td>\n",
       "      <td>5.2</td>\n",
       "      <td>2.0</td>\n",
       "      <td>2</td>\n",
       "    </tr>\n",
       "    <tr>\n",
       "      <th>148</th>\n",
       "      <td>6.2</td>\n",
       "      <td>3.4</td>\n",
       "      <td>5.4</td>\n",
       "      <td>2.3</td>\n",
       "      <td>2</td>\n",
       "    </tr>\n",
       "    <tr>\n",
       "      <th>149</th>\n",
       "      <td>5.9</td>\n",
       "      <td>3.0</td>\n",
       "      <td>5.1</td>\n",
       "      <td>1.8</td>\n",
       "      <td>2</td>\n",
       "    </tr>\n",
       "  </tbody>\n",
       "</table>\n",
       "<p>150 rows × 5 columns</p>\n",
       "</div>"
      ],
      "text/plain": [
       "     sepal_length  sepal_width  petal_length  petal_width  targets\n",
       "0             5.1          3.5           1.4          0.2        0\n",
       "1             4.9          3.0           1.4          0.2        0\n",
       "2             4.7          3.2           1.3          0.2        0\n",
       "3             4.6          3.1           1.5          0.2        0\n",
       "4             5.0          3.6           1.4          0.2        0\n",
       "..            ...          ...           ...          ...      ...\n",
       "145           6.7          3.0           5.2          2.3        2\n",
       "146           6.3          2.5           5.0          1.9        2\n",
       "147           6.5          3.0           5.2          2.0        2\n",
       "148           6.2          3.4           5.4          2.3        2\n",
       "149           5.9          3.0           5.1          1.8        2\n",
       "\n",
       "[150 rows x 5 columns]"
      ]
     },
     "execution_count": 53,
     "metadata": {},
     "output_type": "execute_result"
    }
   ],
   "source": [
    "# To help us understand our data better, let’s first combine the two data frames we just created. \n",
    "# By doing this we can see the features and class determination of the flowers together.\n",
    "df = pd.concat([df_data, df_target], axis = 1)\n",
    "df"
   ]
  },
  {
   "cell_type": "markdown",
   "id": "9d88390f",
   "metadata": {},
   "source": [
    "### <font color='Orange'>Data cleaning</font>"
   ]
  },
  {
   "cell_type": "markdown",
   "id": "be8ebbf4",
   "metadata": {},
   "source": [
    "<font color='Orange'>1. Data types</font>"
   ]
  },
  {
   "cell_type": "code",
   "execution_count": 87,
   "id": "78b8a3b3",
   "metadata": {},
   "outputs": [
    {
     "data": {
      "text/plain": [
       "sepal_length    float64\n",
       "sepal_width     float64\n",
       "petal_width     float64\n",
       "petal_length    float64\n",
       "targets           int32\n",
       "dtype: object"
      ]
     },
     "execution_count": 87,
     "metadata": {},
     "output_type": "execute_result"
    }
   ],
   "source": [
    "df.dtypes"
   ]
  },
  {
   "cell_type": "markdown",
   "id": "1b9871df",
   "metadata": {},
   "source": [
    "<font color='Orange'>2. Checking for missing values</font>"
   ]
  },
  {
   "cell_type": "code",
   "execution_count": 185,
   "id": "869d7c75",
   "metadata": {},
   "outputs": [
    {
     "data": {
      "text/plain": [
       "sepal_length    0\n",
       "sepal_width     0\n",
       "petal_width     0\n",
       "petal_length    0\n",
       "targets         0\n",
       "dtype: int64"
      ]
     },
     "execution_count": 185,
     "metadata": {},
     "output_type": "execute_result"
    }
   ],
   "source": [
    "# No missing values for this data\n",
    "df.isnull().sum()"
   ]
  },
  {
   "cell_type": "markdown",
   "id": "e78f2dcb",
   "metadata": {},
   "source": [
    "<font color='Orange'>3. Statistical Overview</font>\n",
    "\n",
    "This allows us to get a quick overview of the data. We can check for outliers by looking at the min and max values of each column in relation to the mean. Spend a bit of time looking through this chart to begin understanding the spread of the data."
   ]
  },
  {
   "cell_type": "code",
   "execution_count": 93,
   "id": "7e4c2973",
   "metadata": {},
   "outputs": [
    {
     "data": {
      "text/html": [
       "<div>\n",
       "<style scoped>\n",
       "    .dataframe tbody tr th:only-of-type {\n",
       "        vertical-align: middle;\n",
       "    }\n",
       "\n",
       "    .dataframe tbody tr th {\n",
       "        vertical-align: top;\n",
       "    }\n",
       "\n",
       "    .dataframe thead th {\n",
       "        text-align: right;\n",
       "    }\n",
       "</style>\n",
       "<table border=\"1\" class=\"dataframe\">\n",
       "  <thead>\n",
       "    <tr style=\"text-align: right;\">\n",
       "      <th></th>\n",
       "      <th>sepal_length</th>\n",
       "      <th>sepal_width</th>\n",
       "      <th>petal_width</th>\n",
       "      <th>petal_length</th>\n",
       "      <th>targets</th>\n",
       "    </tr>\n",
       "  </thead>\n",
       "  <tbody>\n",
       "    <tr>\n",
       "      <th>count</th>\n",
       "      <td>150.000000</td>\n",
       "      <td>150.000000</td>\n",
       "      <td>150.000000</td>\n",
       "      <td>150.000000</td>\n",
       "      <td>150.000000</td>\n",
       "    </tr>\n",
       "    <tr>\n",
       "      <th>mean</th>\n",
       "      <td>5.843333</td>\n",
       "      <td>3.057333</td>\n",
       "      <td>3.758000</td>\n",
       "      <td>1.199333</td>\n",
       "      <td>1.000000</td>\n",
       "    </tr>\n",
       "    <tr>\n",
       "      <th>std</th>\n",
       "      <td>0.828066</td>\n",
       "      <td>0.435866</td>\n",
       "      <td>1.765298</td>\n",
       "      <td>0.762238</td>\n",
       "      <td>0.819232</td>\n",
       "    </tr>\n",
       "    <tr>\n",
       "      <th>min</th>\n",
       "      <td>4.300000</td>\n",
       "      <td>2.000000</td>\n",
       "      <td>1.000000</td>\n",
       "      <td>0.100000</td>\n",
       "      <td>0.000000</td>\n",
       "    </tr>\n",
       "    <tr>\n",
       "      <th>25%</th>\n",
       "      <td>5.100000</td>\n",
       "      <td>2.800000</td>\n",
       "      <td>1.600000</td>\n",
       "      <td>0.300000</td>\n",
       "      <td>0.000000</td>\n",
       "    </tr>\n",
       "    <tr>\n",
       "      <th>50%</th>\n",
       "      <td>5.800000</td>\n",
       "      <td>3.000000</td>\n",
       "      <td>4.350000</td>\n",
       "      <td>1.300000</td>\n",
       "      <td>1.000000</td>\n",
       "    </tr>\n",
       "    <tr>\n",
       "      <th>75%</th>\n",
       "      <td>6.400000</td>\n",
       "      <td>3.300000</td>\n",
       "      <td>5.100000</td>\n",
       "      <td>1.800000</td>\n",
       "      <td>2.000000</td>\n",
       "    </tr>\n",
       "    <tr>\n",
       "      <th>max</th>\n",
       "      <td>7.900000</td>\n",
       "      <td>4.400000</td>\n",
       "      <td>6.900000</td>\n",
       "      <td>2.500000</td>\n",
       "      <td>2.000000</td>\n",
       "    </tr>\n",
       "  </tbody>\n",
       "</table>\n",
       "</div>"
      ],
      "text/plain": [
       "       sepal_length  sepal_width  petal_width  petal_length     targets\n",
       "count    150.000000   150.000000   150.000000    150.000000  150.000000\n",
       "mean       5.843333     3.057333     3.758000      1.199333    1.000000\n",
       "std        0.828066     0.435866     1.765298      0.762238    0.819232\n",
       "min        4.300000     2.000000     1.000000      0.100000    0.000000\n",
       "25%        5.100000     2.800000     1.600000      0.300000    0.000000\n",
       "50%        5.800000     3.000000     4.350000      1.300000    1.000000\n",
       "75%        6.400000     3.300000     5.100000      1.800000    2.000000\n",
       "max        7.900000     4.400000     6.900000      2.500000    2.000000"
      ]
     },
     "execution_count": 93,
     "metadata": {},
     "output_type": "execute_result"
    }
   ],
   "source": [
    "df.describe()"
   ]
  },
  {
   "cell_type": "code",
   "execution_count": 94,
   "id": "385df5ed",
   "metadata": {},
   "outputs": [
    {
     "data": {
      "text/html": [
       "<div>\n",
       "<style scoped>\n",
       "    .dataframe tbody tr th:only-of-type {\n",
       "        vertical-align: middle;\n",
       "    }\n",
       "\n",
       "    .dataframe tbody tr th {\n",
       "        vertical-align: top;\n",
       "    }\n",
       "\n",
       "    .dataframe thead th {\n",
       "        text-align: right;\n",
       "    }\n",
       "</style>\n",
       "<table border=\"1\" class=\"dataframe\">\n",
       "  <thead>\n",
       "    <tr style=\"text-align: right;\">\n",
       "      <th></th>\n",
       "      <th>sepal_length</th>\n",
       "      <th>sepal_width</th>\n",
       "      <th>petal_width</th>\n",
       "      <th>petal_length</th>\n",
       "      <th>targets</th>\n",
       "    </tr>\n",
       "  </thead>\n",
       "  <tbody>\n",
       "    <tr>\n",
       "      <th>sepal_length</th>\n",
       "      <td>1.000000</td>\n",
       "      <td>-0.117570</td>\n",
       "      <td>0.871754</td>\n",
       "      <td>0.817941</td>\n",
       "      <td>0.782561</td>\n",
       "    </tr>\n",
       "    <tr>\n",
       "      <th>sepal_width</th>\n",
       "      <td>-0.117570</td>\n",
       "      <td>1.000000</td>\n",
       "      <td>-0.428440</td>\n",
       "      <td>-0.366126</td>\n",
       "      <td>-0.426658</td>\n",
       "    </tr>\n",
       "    <tr>\n",
       "      <th>petal_width</th>\n",
       "      <td>0.871754</td>\n",
       "      <td>-0.428440</td>\n",
       "      <td>1.000000</td>\n",
       "      <td>0.962865</td>\n",
       "      <td>0.949035</td>\n",
       "    </tr>\n",
       "    <tr>\n",
       "      <th>petal_length</th>\n",
       "      <td>0.817941</td>\n",
       "      <td>-0.366126</td>\n",
       "      <td>0.962865</td>\n",
       "      <td>1.000000</td>\n",
       "      <td>0.956547</td>\n",
       "    </tr>\n",
       "    <tr>\n",
       "      <th>targets</th>\n",
       "      <td>0.782561</td>\n",
       "      <td>-0.426658</td>\n",
       "      <td>0.949035</td>\n",
       "      <td>0.956547</td>\n",
       "      <td>1.000000</td>\n",
       "    </tr>\n",
       "  </tbody>\n",
       "</table>\n",
       "</div>"
      ],
      "text/plain": [
       "              sepal_length  sepal_width  petal_width  petal_length   targets\n",
       "sepal_length      1.000000    -0.117570     0.871754      0.817941  0.782561\n",
       "sepal_width      -0.117570     1.000000    -0.428440     -0.366126 -0.426658\n",
       "petal_width       0.871754    -0.428440     1.000000      0.962865  0.949035\n",
       "petal_length      0.817941    -0.366126     0.962865      1.000000  0.956547\n",
       "targets           0.782561    -0.426658     0.949035      0.956547  1.000000"
      ]
     },
     "execution_count": 94,
     "metadata": {},
     "output_type": "execute_result"
    }
   ],
   "source": [
    "df.corr()"
   ]
  },
  {
   "cell_type": "markdown",
   "id": "6c74efd2",
   "metadata": {},
   "source": [
    "<font color='Orange'>4. Visual representation</font>\n",
    "\n",
    "Petal length and width is most correlated with the target, meaning that as these numbers increase, so does the target value. In this case, it means that flowers in class 2 often have longer petal length and width than flowers in class 0. Sepal width is most anti-correlated, indicating that flowers in class 0 have the greatest sepal width than those in class 2. We can also see some intercorrelation between features, for example petal width and length are also highly correlated. This information is not necessarily the best way to analyze the data, but it allows us to start seeing these relationships."
   ]
  },
  {
   "cell_type": "code",
   "execution_count": 108,
   "id": "9e325225",
   "metadata": {},
   "outputs": [
    {
     "data": {
      "image/png": "[encoded data removed]",
      "text/plain": [
       "<Figure size 360x360 with 2 Axes>"
      ]
     },
     "metadata": {},
     "output_type": "display_data"
    }
   ],
   "source": [
    "# making use of seaborn library, usually more used than matplotlib especially for statistical observation \n",
    "sns.set(rc = {'figure.figsize':(5,5)})\n",
    "sns.heatmap(df.corr(), annot = True); #annot = True adds the numbers onto the squares"
   ]
  },
  {
   "cell_type": "code",
   "execution_count": 32,
   "id": "e1c63df3",
   "metadata": {},
   "outputs": [],
   "source": [
    "def scatter_plot(x_index, y_index):\n",
    "    # this formatter will label the colorbar with the correct target names\n",
    "    formatter = plt.FuncFormatter(lambda i, *args: iris_dataset.target_names[int(i)])\n",
    "    plt.figure(figsize=(5, 4))\n",
    "    # Accessing each column through their user-specified indices, c controls the color\n",
    "    plt.scatter(iris_dataset.data[:, x_index], iris_dataset.data[:, y_index], c=iris_dataset.target)\n",
    "    plt.colorbar(ticks=[0, 1, 2], format=formatter)\n",
    "    plt.xlabel(iris_dataset.feature_names[x_index])\n",
    "    plt.ylabel(iris_dataset.feature_names[y_index])\n",
    "    plt.tight_layout()\n",
    "    plt.show()"
   ]
  },
  {
   "cell_type": "code",
   "execution_count": 33,
   "id": "67597743",
   "metadata": {},
   "outputs": [
    {
     "data": {
      "image/png": "[encoded data removed]",
      "text/plain": [
       "<Figure size 360x288 with 2 Axes>"
      ]
     },
     "metadata": {
      "needs_background": "light"
     },
     "output_type": "display_data"
    },
    {
     "data": {
      "image/png": "[encoded data removed]",
      "text/plain": [
       "<Figure size 360x288 with 2 Axes>"
      ]
     },
     "metadata": {
      "needs_background": "light"
     },
     "output_type": "display_data"
    }
   ],
   "source": [
    "# The indices of the features that we are plotting (class 0 & 1) and (class 2 & 3)\n",
    "scatter_plot(0,1)\n",
    "scatter_plot(2,3)"
   ]
  },
  {
   "cell_type": "markdown",
   "id": "a7064a76",
   "metadata": {},
   "source": [
    "### <font color='Orange'> Modelling</font> "
   ]
  },
  {
   "cell_type": "markdown",
   "id": "358d6a52",
   "metadata": {},
   "source": [
    "Now that we have cleaned and explored the data, we can begin to develop a model. Our goal is to create a <font color='Orange'> Logistic Regression</font> classification model that will predict which class the flower is based on petal and sepal sizes."
   ]
  },
  {
   "cell_type": "code",
   "execution_count": 215,
   "id": "1dee1829",
   "metadata": {},
   "outputs": [],
   "source": [
    "#divide our data into predictors (X) and target values (y)\n",
    "X = df.copy()\n",
    "y = X.pop('targets')"
   ]
  },
  {
   "cell_type": "markdown",
   "id": "9f859b91",
   "metadata": {},
   "source": [
    "### <font color='Orange'> Measuring Success: Training and Testing Data </font> "
   ]
  },
  {
   "cell_type": "markdown",
   "id": "31823088",
   "metadata": {},
   "source": [
    "We want to build a machine learning model from this data that can predict the species of iris for a new set of measurements. But before we can apply our model to new measurements, we need to know whether it actually works—that is, whether we should trust its predictions. \n",
    "\n",
    "Unfortunately, we cannot use the data we used to build the model to evaluate it. This is because our model can always simply remember the whole training set, and will therefore always predict the correct label for any point in the training set. This “remembering” does not indicate to us whether our model will generalize well (in other words, whether it will also perform well on new data).\n",
    "\n",
    "scikit-learn contains a function that shuffles the dataset and splits it for you: <font color='Orange'> the train_test_split function.</font> This function extracts 75% of the rows in the data as the training set, together with the corresponding labels for this data. The remaining 25% of the data, together with the remaining labels, is declared as the test set. "
   ]
  },
  {
   "cell_type": "markdown",
   "id": "a0edfe9f",
   "metadata": {},
   "source": [
    "In scikit-learn, data is usually denoted with a capital X, while labels are denoted by a lowercase y. This is inspired by the standard formulation f(x)=y in mathematics, where x is the input to a function and y is the output. Following more conventions from mathematics, we use a capital X because the data is a two-dimensional array (a matrix) and a lowercase y because the target is a one-dimensional array (a vector). Let’s call train_test_split on our data and assign the outputs using this nomenclature:"
   ]
  },
  {
   "cell_type": "markdown",
   "id": "387683ef",
   "metadata": {},
   "source": [
    "<font color='Orange'> 1. Train test split</font> "
   ]
  },
  {
   "cell_type": "markdown",
   "id": "89e53171",
   "metadata": {},
   "source": [
    "Once we separate the features from the target, we can create a train and test class. As the names suggest, we will train our model on the train set, and test the model on the test set. "
   ]
  },
  {
   "cell_type": "code",
   "execution_count": 200,
   "id": "7f072e26",
   "metadata": {},
   "outputs": [],
   "source": [
    "from sklearn.model_selection import train_test_split"
   ]
  },
  {
   "cell_type": "markdown",
   "id": "b77cb360",
   "metadata": {},
   "source": [
    "<img src =\"./images/train_test_split.png\" width=\"800\" height=\"800\">"
   ]
  },
  {
   "cell_type": "markdown",
   "id": "d45e482e",
   "metadata": {},
   "source": [
    "First, make sure your data is arranged into a format acceptable for train test split. In scikit-learn, this consists of separating your full dataset into Features and Target. <font color='Orange'> ( Have a look at the image above )</font> \n",
    "\n",
    "\n",
    "Next, split the dataset into two pieces: a training set and a testing set. This consists of random sampling without replacement  about 75% (you can vary this) of the rows and putting them into your training set and putting the remaining 25% to your test    set. Note that the colors in “Features” and “Target” indicate where their data will go (“X_train”, “X_test”, “y_train”,          “y_test”) for a particular train test split.\n",
    "\n",
    "Afterwards, train the model on the training set. This is “X_train” and “y_train” in the image.\n",
    "\n",
    "Finally, test the model on the testing set (“X_test” and “y_test” in the image) and evaluate the performance."
   ]
  },
  {
   "cell_type": "code",
   "execution_count": 201,
   "id": "af23ee45",
   "metadata": {},
   "outputs": [],
   "source": [
    "X_train, X_test, y_train, y_test = train_test_split(X, y, test_size=0.25, random_state=1, stratify = y)\n",
    "\n",
    "# To be explained clearly\n",
    "#by stratifying on 'y' we assure that the different classes are represented proportionally to the amount in the total data \n",
    "#(this makes sure that all of class 1 is not in the test group only)"
   ]
  },
  {
   "cell_type": "markdown",
   "id": "728e3bba",
   "metadata": {},
   "source": [
    "<font color='Orange'> 2. Standardize</font> \n",
    "\n",
    "Is also called Z-Score Normalization which refers to the transformation of features by subtracting from mean and dividing by standard deviation.\n",
    "\n",
    "To standardize a dataset means to scale all of the values in the dataset such that the <font color='Orange'>mean value is 0 and the standard deviation is 1.</font>This puts the numbers on a consistent scale while keeping the proportional relationship between them."
   ]
  },
  {
   "cell_type": "markdown",
   "id": "aa6b58e4",
   "metadata": {},
   "source": [
    "Data normalization is used in machine learning to make model training less sensitive to the scale of features. This allows our model to converge to better weights and, in turn, leads to a more accurate model. The images below represent data before and after normalization.\n",
    "\n",
    "<img src =\"./images/Normalization.png\" width=\"400\" height=\"400\">\n",
    "\n",
    "Ref : https://www.educative.io/edpresso/data-normalization-in-python"
   ]
  },
  {
   "cell_type": "code",
   "execution_count": 217,
   "id": "f6c9e692",
   "metadata": {},
   "outputs": [],
   "source": [
    "from sklearn.preprocessing import StandardScaler"
   ]
  },
  {
   "cell_type": "code",
   "execution_count": 227,
   "id": "7eaa392d",
   "metadata": {},
   "outputs": [
    {
     "data": {
      "text/html": [
       "<div>\n",
       "<style scoped>\n",
       "    .dataframe tbody tr th:only-of-type {\n",
       "        vertical-align: middle;\n",
       "    }\n",
       "\n",
       "    .dataframe tbody tr th {\n",
       "        vertical-align: top;\n",
       "    }\n",
       "\n",
       "    .dataframe thead th {\n",
       "        text-align: right;\n",
       "    }\n",
       "</style>\n",
       "<table border=\"1\" class=\"dataframe\">\n",
       "  <thead>\n",
       "    <tr style=\"text-align: right;\">\n",
       "      <th></th>\n",
       "      <th>sepal_length</th>\n",
       "      <th>sepal_width</th>\n",
       "      <th>petal_width</th>\n",
       "      <th>petal_length</th>\n",
       "    </tr>\n",
       "  </thead>\n",
       "  <tbody>\n",
       "    <tr>\n",
       "      <th>0</th>\n",
       "      <td>0.649151</td>\n",
       "      <td>0.062366</td>\n",
       "      <td>0.975270</td>\n",
       "      <td>0.781662</td>\n",
       "    </tr>\n",
       "    <tr>\n",
       "      <th>1</th>\n",
       "      <td>-0.895234</td>\n",
       "      <td>1.459374</td>\n",
       "      <td>-1.256196</td>\n",
       "      <td>-1.031424</td>\n",
       "    </tr>\n",
       "    <tr>\n",
       "      <th>2</th>\n",
       "      <td>0.530352</td>\n",
       "      <td>-0.636138</td>\n",
       "      <td>0.752124</td>\n",
       "      <td>0.393144</td>\n",
       "    </tr>\n",
       "    <tr>\n",
       "      <th>3</th>\n",
       "      <td>2.193535</td>\n",
       "      <td>-0.170468</td>\n",
       "      <td>1.309990</td>\n",
       "      <td>1.429193</td>\n",
       "    </tr>\n",
       "    <tr>\n",
       "      <th>4</th>\n",
       "      <td>0.649151</td>\n",
       "      <td>-0.403303</td>\n",
       "      <td>0.305830</td>\n",
       "      <td>0.134131</td>\n",
       "    </tr>\n",
       "    <tr>\n",
       "      <th>...</th>\n",
       "      <td>...</td>\n",
       "      <td>...</td>\n",
       "      <td>...</td>\n",
       "      <td>...</td>\n",
       "    </tr>\n",
       "    <tr>\n",
       "      <th>107</th>\n",
       "      <td>0.292754</td>\n",
       "      <td>-1.101807</td>\n",
       "      <td>1.031057</td>\n",
       "      <td>0.263638</td>\n",
       "    </tr>\n",
       "    <tr>\n",
       "      <th>108</th>\n",
       "      <td>-1.014033</td>\n",
       "      <td>0.993705</td>\n",
       "      <td>-1.200409</td>\n",
       "      <td>-0.772412</td>\n",
       "    </tr>\n",
       "    <tr>\n",
       "      <th>109</th>\n",
       "      <td>-0.182441</td>\n",
       "      <td>-0.170468</td>\n",
       "      <td>0.250044</td>\n",
       "      <td>0.004625</td>\n",
       "    </tr>\n",
       "    <tr>\n",
       "      <th>110</th>\n",
       "      <td>-1.132832</td>\n",
       "      <td>1.226540</td>\n",
       "      <td>-1.311983</td>\n",
       "      <td>-1.419943</td>\n",
       "    </tr>\n",
       "    <tr>\n",
       "      <th>111</th>\n",
       "      <td>-0.301240</td>\n",
       "      <td>-0.403303</td>\n",
       "      <td>-0.084676</td>\n",
       "      <td>0.134131</td>\n",
       "    </tr>\n",
       "  </tbody>\n",
       "</table>\n",
       "<p>112 rows × 4 columns</p>\n",
       "</div>"
      ],
      "text/plain": [
       "     sepal_length  sepal_width  petal_width  petal_length\n",
       "0        0.649151     0.062366     0.975270      0.781662\n",
       "1       -0.895234     1.459374    -1.256196     -1.031424\n",
       "2        0.530352    -0.636138     0.752124      0.393144\n",
       "3        2.193535    -0.170468     1.309990      1.429193\n",
       "4        0.649151    -0.403303     0.305830      0.134131\n",
       "..            ...          ...          ...           ...\n",
       "107      0.292754    -1.101807     1.031057      0.263638\n",
       "108     -1.014033     0.993705    -1.200409     -0.772412\n",
       "109     -0.182441    -0.170468     0.250044      0.004625\n",
       "110     -1.132832     1.226540    -1.311983     -1.419943\n",
       "111     -0.301240    -0.403303    -0.084676      0.134131\n",
       "\n",
       "[112 rows x 4 columns]"
      ]
     },
     "execution_count": 227,
     "metadata": {},
     "output_type": "execute_result"
    }
   ],
   "source": [
    "scaler = StandardScaler()\n",
    "X_train = pd.DataFrame(scaler.fit_transform(X_train), columns=X.columns)\n",
    "X_train"
   ]
  },
  {
   "cell_type": "code",
   "execution_count": 258,
   "id": "0e81dd2b",
   "metadata": {},
   "outputs": [],
   "source": [
    "xi = float(df.sepal_length[0])\n",
    "mean = float(df.describe()[1:2].sepal_length)\n",
    "sd = float(df.describe()[2:3].sepal_length)"
   ]
  },
  {
   "cell_type": "code",
   "execution_count": 259,
   "id": "cb1dabc3",
   "metadata": {},
   "outputs": [
    {
     "data": {
      "text/plain": [
       "-0.8976738791967661"
      ]
     },
     "execution_count": 259,
     "metadata": {},
     "output_type": "execute_result"
    }
   ],
   "source": [
    "z = (xi - mean)/sd\n",
    "z"
   ]
  },
  {
   "cell_type": "code",
   "execution_count": null,
   "id": "6add091f",
   "metadata": {},
   "outputs": [],
   "source": [
    "# currently working on this project !"
   ]
  }
 ],
 "metadata": {
  "kernelspec": {
   "display_name": "Python 3",
   "language": "python",
   "name": "python3"
  },
  "language_info": {
   "codemirror_mode": {
    "name": "ipython",
    "version": 3
   },
   "file_extension": ".py",
   "mimetype": "text/x-python",
   "name": "python",
   "nbconvert_exporter": "python",
   "pygments_lexer": "ipython3",
   "version": "3.9.0"
  }
 },
 "nbformat": 4,
 "nbformat_minor": 5
}
